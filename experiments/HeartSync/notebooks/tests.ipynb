{
 "cells": [
  {
   "cell_type": "code",
   "execution_count": 48,
   "metadata": {},
   "outputs": [],
   "source": [
    "import numpy as np\n",
    "import matplotlib.pyplot as plt\n",
    "from cbi_toolbox import reconstruct as cbir\n",
    "from cbi_toolbox import parallel as cbip\n",
    "\n",
    "import scipy.signal as signal\n",
    "import scipy.fft as fft\n",
    "import scipy.sparse as sparse\n",
    "import scipy.linalg as linalg\n",
    "\n",
    "%matplotlib widget"
   ]
  },
  {
   "cell_type": "code",
   "execution_count": 2,
   "metadata": {},
   "outputs": [],
   "source": [
    "\n",
    "measure = np.load('../out/exp/measure.npy')\n",
    "\n",
    "measure = measure[:, ::2, ...]"
   ]
  },
  {
   "cell_type": "code",
   "execution_count": 3,
   "metadata": {},
   "outputs": [],
   "source": [
    "wimage = cbir.dwt_preprocess(measure, drop_hi=2, parallel=True)\n",
    "del measure"
   ]
  },
  {
   "cell_type": "code",
   "execution_count": 4,
   "metadata": {},
   "outputs": [
    {
     "data": {
      "text/plain": [
       "(100, 128, 87, 87)"
      ]
     },
     "execution_count": 4,
     "metadata": {},
     "output_type": "execute_result"
    }
   ],
   "source": [
    "# Resampling\n",
    "\n",
    "n_time = 100\n",
    "wimage = signal.resample(wimage, n_time, axis=0)\n",
    "\n",
    "wimage.shape"
   ]
  },
  {
   "cell_type": "code",
   "execution_count": 168,
   "metadata": {},
   "outputs": [
    {
     "name": "stdout",
     "output_type": "stream",
     "text": [
      "[ 0 12 19 15 12 16 14 13 19  7]\n"
     ]
    }
   ],
   "source": [
    "\n",
    "coords = np.mgrid[:64, :64] - 32\n",
    "\n",
    "wimage = np.zeros((20, 10, 64, 64))\n",
    "for n in range(wimage.shape[0]):\n",
    "    wimage[n, 0, ...] = (np.abs(coords[0]) < n+5) * (np.abs(coords[1]) < n+8)\n",
    "\n",
    "\n",
    "shifts = np.random.randint(0, 20, size=10)\n",
    "shifts[0] = 0\n",
    "for n in range(wimage.shape[1]):\n",
    "    wimage[:, n, ...] = np.roll(wimage[:, 0, ...], shifts[n], axis=0)\n",
    "\n",
    "print(shifts)"
   ]
  },
  {
   "cell_type": "code",
   "execution_count": 186,
   "metadata": {},
   "outputs": [
    {
     "name": "stdout",
     "output_type": "stream",
     "text": [
      "[ 0 12 19 15 12 16 14 13 19  7]\n",
      "[ 0  0 11  6  3  7  6  3 13  9]\n"
     ]
    },
    {
     "data": {
      "text/plain": [
       "array([ 0.,  8., 13.,  4.,  3., 16.,  2.,  1., 14., 12.,  1., 17.,  7.,\n",
       "       19., 18.,  3., 15.,  6.])"
      ]
     },
     "execution_count": 186,
     "metadata": {},
     "output_type": "execute_result"
    }
   ],
   "source": [
    "max_dk = 2\n",
    "w_k = [1, 1]\n",
    "\n",
    "n_depth = wimage.shape[1]\n",
    "\n",
    "Q_k_dk = np.empty((wimage.shape[0], wimage.shape[1], max_dk + 1))\n",
    "\n",
    "workers = cbip.max_workers()\n",
    "\n",
    "wfft = fft.rfft(wimage, axis=0, overwrite_x=False, workers=workers)\n",
    "\n",
    "\n",
    "for delta_k in range(max_dk+1):\n",
    "    corr = fft.irfft(wfft * np.conj(np.roll(wfft, -delta_k, axis=1)), axis=0, workers=workers, overwrite_x=True)\n",
    "    Q_k_dk[..., delta_k] = corr.sum((-1, -2))\n",
    "\n",
    "del wfft\n",
    "\n",
    "S_k_dk = np.argmax(Q_k_dk, axis=0)\n",
    "\n",
    "# plt.figure()\n",
    "# # plt.imshow(Q_kk[..., 0])\n",
    "# plt.imshow(S_k_dk)\n",
    "# plt.colorbar()\n",
    "# plt.show()\n",
    "A = []\n",
    "s = []\n",
    "w = []\n",
    "\n",
    "A0 = np.zeros((1, n_depth))\n",
    "A0[:, 0] = 1\n",
    "\n",
    "A.append(A0)\n",
    "s.append(np.atleast_1d(0))\n",
    "w.append(1)\n",
    "\n",
    "for delta_k in range(max_dk):\n",
    "    delta_k += 1\n",
    "    A_d = sparse.diags_array((1, -1), offsets=(0, delta_k), shape=(n_depth - delta_k, n_depth)).toarray()\n",
    "    A.append(A_d)\n",
    "    s.append(S_k_dk[:n_depth - delta_k, delta_k])\n",
    "    w.extend((w_k[delta_k - 1],) * (n_depth - delta_k))\n",
    "     \n",
    "A = np.vstack(A)\n",
    "s = np.hstack(s)\n",
    "W = np.sqrt(np.diag(w))\n",
    "\n",
    "A = W @ A\n",
    "s = s @ W\n",
    "\n",
    "sol, _, _, _ = linalg.lstsq(A, s)\n",
    "# sol = sol.astype(int) % n_depth\n",
    "\n",
    "sol = np.round((sol)).astype(int) % 20\n",
    "\n",
    "print(shifts)\n",
    "print(sol)\n",
    "\n",
    "s"
   ]
  }
 ],
 "metadata": {
  "kernelspec": {
   "display_name": "cbi",
   "language": "python",
   "name": "python3"
  },
  "language_info": {
   "codemirror_mode": {
    "name": "ipython",
    "version": 3
   },
   "file_extension": ".py",
   "mimetype": "text/x-python",
   "name": "python",
   "nbconvert_exporter": "python",
   "pygments_lexer": "ipython3",
   "version": "3.10.14"
  }
 },
 "nbformat": 4,
 "nbformat_minor": 2
}
