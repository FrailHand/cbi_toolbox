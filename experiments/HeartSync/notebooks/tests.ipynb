{
 "cells": [
  {
   "cell_type": "code",
   "execution_count": 4,
   "metadata": {},
   "outputs": [],
   "source": [
    "import numpy as np\n",
    "import matplotlib.pyplot as plt\n",
    "from cbi_toolbox import reconstruct as cbir\n",
    "from cbi_toolbox.reconstruct import heart_sync\n",
    "\n",
    "import scipy.signal as signal\n",
    "\n",
    "%matplotlib widget\n",
    "\n",
    "\n",
    "# coords = np.mgrid[:64, :64] - 32\n",
    "\n",
    "# data = np.zeros((20, 10, 64, 64))\n",
    "# for n in range(data.shape[0]):\n",
    "#     data[n, 0, ...] = (np.abs(coords[0]) < n+5) * (np.abs(coords[1]) < n+8)\n",
    "\n",
    "\n",
    "# np.random.seed(0)\n",
    "# shifts = np.random.randint(0, 20, size=10)\n",
    "# shifts[0] = 0\n",
    "# for n in range(data.shape[1]):\n",
    "#     data[:, n, ...] = np.roll(data[:, 0, ...], shifts[n], axis=0)\n",
    "\n",
    "# print(shifts)\n",
    "\n",
    "# solution = heart_sync.heart_shifts_4D(data)\n",
    "# print(solution)"
   ]
  },
  {
   "cell_type": "code",
   "execution_count": 2,
   "metadata": {},
   "outputs": [],
   "source": [
    "\n",
    "measure = np.load('../out/exp/measure.npy')\n",
    "\n",
    "measure = measure[:, ::2, ...]"
   ]
  },
  {
   "cell_type": "code",
   "execution_count": 3,
   "metadata": {},
   "outputs": [],
   "source": [
    "data = cbir.dwt_preprocess(measure, drop_hi=2, parallel=True)\n",
    "del measure"
   ]
  },
  {
   "cell_type": "code",
   "execution_count": 4,
   "metadata": {},
   "outputs": [
    {
     "data": {
      "text/plain": [
       "(100, 128, 87, 87)"
      ]
     },
     "execution_count": 4,
     "metadata": {},
     "output_type": "execute_result"
    }
   ],
   "source": [
    "# Resampling\n",
    "\n",
    "n_time = 100\n",
    "data = signal.resample(data, n_time, axis=0)\n",
    "\n",
    "data.shape"
   ]
  }
 ],
 "metadata": {
  "kernelspec": {
   "display_name": "cbi",
   "language": "python",
   "name": "python3"
  },
  "language_info": {
   "codemirror_mode": {
    "name": "ipython",
    "version": 3
   },
   "file_extension": ".py",
   "mimetype": "text/x-python",
   "name": "python",
   "nbconvert_exporter": "python",
   "pygments_lexer": "ipython3",
   "version": "3.10.14"
  }
 },
 "nbformat": 4,
 "nbformat_minor": 2
}
